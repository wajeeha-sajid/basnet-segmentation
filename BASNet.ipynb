{
  "cells": [
    {
      "cell_type": "markdown",
      "id": "020f1e50-3560-4293-b2d5-9c0ec1b6d1e3",
      "metadata": {
        "id": "020f1e50-3560-4293-b2d5-9c0ec1b6d1e3"
      },
      "source": [
        "\n",
        "## **\"Highly accurate boundaries segmentation using BASNet\"**\n",
        "\n",
        "**Author:** Wajeeha Sajid  \n",
        "**Electrical and Computer Engineering**"
      ]
    },
    {
      "cell_type": "markdown",
      "id": "4883c765-e917-451d-b53f-3e6844762395",
      "metadata": {
        "id": "4883c765-e917-451d-b53f-3e6844762395"
      },
      "source": [
        "### **Introduction**"
      ]
    },
    {
      "cell_type": "markdown",
      "id": "eee5abe5-a49a-43eb-bec3-df49ad7aaa57",
      "metadata": {
        "id": "eee5abe5-a49a-43eb-bec3-df49ad7aaa57"
      },
      "source": [
        "Deep semantic segmentation algorithms have improved a lot recently, but still fails to correctly predict pixels around object boundaries. In this example we implement Boundary-Aware Segmentation Network (BASNet), using two stage predict and refine architecture, and a hybrid loss it can predict highly accurate boundaries and fine structures for image segmentation."
      ]
    },
    {
      "cell_type": "markdown",
      "id": "d5428d1c-ae2a-4841-88a4-8a051d0feceb",
      "metadata": {
        "id": "d5428d1c-ae2a-4841-88a4-8a051d0feceb"
      },
      "source": [
        "### **Download the Data**"
      ]
    },
    {
      "cell_type": "code",
      "source": [
        "!wget http://saliencydetection.net/duts/download/DUTS-TE.zip\n",
        "!unzip -q DUTS-TE.zip"
      ],
      "metadata": {
        "colab": {
          "base_uri": "https://localhost:8080/"
        },
        "id": "PcPGNy1NEAKL",
        "outputId": "14c8694d-81fa-478b-dc24-39a8b45bd630"
      },
      "id": "PcPGNy1NEAKL",
      "execution_count": null,
      "outputs": [
        {
          "output_type": "stream",
          "name": "stdout",
          "text": [
            "--2024-05-25 00:44:20--  http://saliencydetection.net/duts/download/DUTS-TE.zip\n",
            "Resolving saliencydetection.net (saliencydetection.net)... 36.55.239.177\n",
            "Connecting to saliencydetection.net (saliencydetection.net)|36.55.239.177|:80... connected.\n",
            "HTTP request sent, awaiting response... 200 OK\n",
            "Length: 139799089 (133M) [application/zip]\n",
            "Saving to: ‘DUTS-TE.zip’\n",
            "\n",
            "DUTS-TE.zip         100%[===================>] 133.32M  4.49MB/s    in 30s     \n",
            "\n",
            "2024-05-25 00:44:51 (4.45 MB/s) - ‘DUTS-TE.zip’ saved [139799089/139799089]\n",
            "\n"
          ]
        }
      ]
    },
    {
      "cell_type": "code",
      "source": [
        "!python -m ipykernel install --user --name=myenv --display-name \"Python (myenv)\""
      ],
      "metadata": {
        "colab": {
          "base_uri": "https://localhost:8080/"
        },
        "id": "corpRPfC9-N6",
        "outputId": "d915941b-598d-4f91-8609-195e576d0a7e"
      },
      "id": "corpRPfC9-N6",
      "execution_count": null,
      "outputs": [
        {
          "output_type": "stream",
          "name": "stdout",
          "text": [
            "Installed kernelspec myenv in /root/.local/share/jupyter/kernels/myenv\n"
          ]
        }
      ]
    },
    {
      "cell_type": "code",
      "source": [
        "!jupyter kernelspec list"
      ],
      "metadata": {
        "colab": {
          "base_uri": "https://localhost:8080/"
        },
        "id": "3gxbsh3y8dFK",
        "outputId": "1ad52987-6634-45e7-a5f0-840caefaf9bd"
      },
      "id": "3gxbsh3y8dFK",
      "execution_count": null,
      "outputs": [
        {
          "output_type": "stream",
          "name": "stdout",
          "text": [
            "Available kernels:\n",
            "  myenv      /root/.local/share/jupyter/kernels/myenv\n",
            "  ir         /usr/local/share/jupyter/kernels/ir\n",
            "  python3    /usr/local/share/jupyter/kernels/python3\n"
          ]
        }
      ]
    },
    {
      "cell_type": "code",
      "source": [
        "!pip install keras-cv"
      ],
      "metadata": {
        "colab": {
          "base_uri": "https://localhost:8080/"
        },
        "id": "mCcE4R_m_GFi",
        "outputId": "24a3c3d5-64ad-4323-edb8-48c9e26508a2"
      },
      "id": "mCcE4R_m_GFi",
      "execution_count": null,
      "outputs": [
        {
          "output_type": "stream",
          "name": "stdout",
          "text": [
            "Collecting keras-cv\n",
            "  Downloading keras_cv-0.9.0-py3-none-any.whl (650 kB)\n",
            "\u001b[2K     \u001b[90m━━━━━━━━━━━━━━━━━━━━━━━━━━━━━━━━━━━━━━━━\u001b[0m \u001b[32m650.7/650.7 kB\u001b[0m \u001b[31m7.5 MB/s\u001b[0m eta \u001b[36m0:00:00\u001b[0m\n",
            "\u001b[?25hRequirement already satisfied: packaging in /usr/local/lib/python3.10/dist-packages (from keras-cv) (24.0)\n",
            "Requirement already satisfied: absl-py in /usr/local/lib/python3.10/dist-packages (from keras-cv) (1.4.0)\n",
            "Requirement already satisfied: regex in /usr/local/lib/python3.10/dist-packages (from keras-cv) (2023.12.25)\n",
            "Requirement already satisfied: tensorflow-datasets in /usr/local/lib/python3.10/dist-packages (from keras-cv) (4.9.4)\n",
            "Collecting keras-core (from keras-cv)\n",
            "  Downloading keras_core-0.1.7-py3-none-any.whl (950 kB)\n",
            "\u001b[2K     \u001b[90m━━━━━━━━━━━━━━━━━━━━━━━━━━━━━━━━━━━━━━━━\u001b[0m \u001b[32m950.8/950.8 kB\u001b[0m \u001b[31m13.0 MB/s\u001b[0m eta \u001b[36m0:00:00\u001b[0m\n",
            "\u001b[?25hRequirement already satisfied: kagglehub in /usr/local/lib/python3.10/dist-packages (from keras-cv) (0.2.5)\n",
            "Requirement already satisfied: requests in /usr/local/lib/python3.10/dist-packages (from kagglehub->keras-cv) (2.31.0)\n",
            "Requirement already satisfied: tqdm in /usr/local/lib/python3.10/dist-packages (from kagglehub->keras-cv) (4.66.4)\n",
            "Requirement already satisfied: numpy in /usr/local/lib/python3.10/dist-packages (from keras-core->keras-cv) (1.25.2)\n",
            "Requirement already satisfied: rich in /usr/local/lib/python3.10/dist-packages (from keras-core->keras-cv) (13.7.1)\n",
            "Collecting namex (from keras-core->keras-cv)\n",
            "  Downloading namex-0.0.8-py3-none-any.whl (5.8 kB)\n",
            "Requirement already satisfied: h5py in /usr/local/lib/python3.10/dist-packages (from keras-core->keras-cv) (3.9.0)\n",
            "Requirement already satisfied: dm-tree in /usr/local/lib/python3.10/dist-packages (from keras-core->keras-cv) (0.1.8)\n",
            "Requirement already satisfied: click in /usr/local/lib/python3.10/dist-packages (from tensorflow-datasets->keras-cv) (8.1.7)\n",
            "Requirement already satisfied: etils[enp,epath,etree]>=0.9.0 in /usr/local/lib/python3.10/dist-packages (from tensorflow-datasets->keras-cv) (1.7.0)\n",
            "Requirement already satisfied: promise in /usr/local/lib/python3.10/dist-packages (from tensorflow-datasets->keras-cv) (2.3)\n",
            "Requirement already satisfied: protobuf>=3.20 in /usr/local/lib/python3.10/dist-packages (from tensorflow-datasets->keras-cv) (3.20.3)\n",
            "Requirement already satisfied: psutil in /usr/local/lib/python3.10/dist-packages (from tensorflow-datasets->keras-cv) (5.9.5)\n",
            "Requirement already satisfied: tensorflow-metadata in /usr/local/lib/python3.10/dist-packages (from tensorflow-datasets->keras-cv) (1.15.0)\n",
            "Requirement already satisfied: termcolor in /usr/local/lib/python3.10/dist-packages (from tensorflow-datasets->keras-cv) (2.4.0)\n",
            "Requirement already satisfied: toml in /usr/local/lib/python3.10/dist-packages (from tensorflow-datasets->keras-cv) (0.10.2)\n",
            "Requirement already satisfied: wrapt in /usr/local/lib/python3.10/dist-packages (from tensorflow-datasets->keras-cv) (1.14.1)\n",
            "Requirement already satisfied: array-record>=0.5.0 in /usr/local/lib/python3.10/dist-packages (from tensorflow-datasets->keras-cv) (0.5.1)\n",
            "Requirement already satisfied: fsspec in /usr/local/lib/python3.10/dist-packages (from etils[enp,epath,etree]>=0.9.0->tensorflow-datasets->keras-cv) (2023.6.0)\n",
            "Requirement already satisfied: importlib_resources in /usr/local/lib/python3.10/dist-packages (from etils[enp,epath,etree]>=0.9.0->tensorflow-datasets->keras-cv) (6.4.0)\n",
            "Requirement already satisfied: typing_extensions in /usr/local/lib/python3.10/dist-packages (from etils[enp,epath,etree]>=0.9.0->tensorflow-datasets->keras-cv) (4.11.0)\n",
            "Requirement already satisfied: zipp in /usr/local/lib/python3.10/dist-packages (from etils[enp,epath,etree]>=0.9.0->tensorflow-datasets->keras-cv) (3.18.2)\n",
            "Requirement already satisfied: charset-normalizer<4,>=2 in /usr/local/lib/python3.10/dist-packages (from requests->kagglehub->keras-cv) (3.3.2)\n",
            "Requirement already satisfied: idna<4,>=2.5 in /usr/local/lib/python3.10/dist-packages (from requests->kagglehub->keras-cv) (3.7)\n",
            "Requirement already satisfied: urllib3<3,>=1.21.1 in /usr/local/lib/python3.10/dist-packages (from requests->kagglehub->keras-cv) (2.0.7)\n",
            "Requirement already satisfied: certifi>=2017.4.17 in /usr/local/lib/python3.10/dist-packages (from requests->kagglehub->keras-cv) (2024.2.2)\n",
            "Requirement already satisfied: six in /usr/local/lib/python3.10/dist-packages (from promise->tensorflow-datasets->keras-cv) (1.16.0)\n",
            "Requirement already satisfied: markdown-it-py>=2.2.0 in /usr/local/lib/python3.10/dist-packages (from rich->keras-core->keras-cv) (3.0.0)\n",
            "Requirement already satisfied: pygments<3.0.0,>=2.13.0 in /usr/local/lib/python3.10/dist-packages (from rich->keras-core->keras-cv) (2.16.1)\n",
            "Requirement already satisfied: mdurl~=0.1 in /usr/local/lib/python3.10/dist-packages (from markdown-it-py>=2.2.0->rich->keras-core->keras-cv) (0.1.2)\n",
            "Installing collected packages: namex, keras-core, keras-cv\n",
            "Successfully installed keras-core-0.1.7 keras-cv-0.9.0 namex-0.0.8\n"
          ]
        }
      ]
    },
    {
      "cell_type": "code",
      "source": [
        "!pip show keras-cv"
      ],
      "metadata": {
        "colab": {
          "base_uri": "https://localhost:8080/"
        },
        "id": "3pdhVDx6-LD8",
        "outputId": "1bcc9081-0c7d-4be5-e506-9e77ed50668a"
      },
      "id": "3pdhVDx6-LD8",
      "execution_count": null,
      "outputs": [
        {
          "output_type": "stream",
          "name": "stdout",
          "text": [
            "Name: keras-cv\n",
            "Version: 0.9.0\n",
            "Summary: Industry-strength computer Vision extensions for Keras.\n",
            "Home-page: https://github.com/keras-team/keras-cv\n",
            "Author: Keras team\n",
            "Author-email: keras-cv@google.com\n",
            "License: Apache License 2.0\n",
            "Location: /usr/local/lib/python3.10/dist-packages\n",
            "Requires: absl-py, kagglehub, keras-core, packaging, regex, tensorflow-datasets\n",
            "Required-by: \n"
          ]
        }
      ]
    },
    {
      "cell_type": "code",
      "source": [
        "import keras_cv"
      ],
      "metadata": {
        "colab": {
          "base_uri": "https://localhost:8080/"
        },
        "id": "257rSyqB-LZB",
        "outputId": "74a76a35-bdeb-4369-e4a3-ceb50fdd43bf"
      },
      "id": "257rSyqB-LZB",
      "execution_count": null,
      "outputs": [
        {
          "output_type": "stream",
          "name": "stdout",
          "text": [
            "Using TensorFlow backend\n"
          ]
        }
      ]
    },
    {
      "cell_type": "markdown",
      "id": "b786d24b-1bfe-4904-b215-8c8cef843fc2",
      "metadata": {
        "id": "b786d24b-1bfe-4904-b215-8c8cef843fc2"
      },
      "source": [
        "### **Importing Libraries**"
      ]
    },
    {
      "cell_type": "code",
      "execution_count": null,
      "id": "dd76f735-3dc1-4fbf-9041-dc9e4d886a06",
      "metadata": {
        "id": "dd76f735-3dc1-4fbf-9041-dc9e4d886a06"
      },
      "outputs": [],
      "source": [
        "import os\n",
        "import numpy as np\n",
        "from glob import glob\n",
        "import matplotlib.pyplot as plt\n",
        "\n",
        "import keras_cv\n",
        "import tensorflow as tf\n",
        "from tensorflow import keras\n",
        "from tensorflow.keras import layers, backend\n"
      ]
    },
    {
      "cell_type": "code",
      "source": [
        "# Ensure GPU is enabled\n",
        "assert tf.test.gpu_device_name(), \"No GPU found. Please enable GPU in Runtime > Change runtime type.\""
      ],
      "metadata": {
        "id": "IxA61jXtNhmC"
      },
      "id": "IxA61jXtNhmC",
      "execution_count": null,
      "outputs": []
    },
    {
      "cell_type": "markdown",
      "id": "cc00ccf6-e276-425d-a214-95893af6ac7a",
      "metadata": {
        "id": "cc00ccf6-e276-425d-a214-95893af6ac7a"
      },
      "source": [
        "### **Define Hyperparameters**"
      ]
    },
    {
      "cell_type": "code",
      "execution_count": null,
      "id": "d8c751c7-d8ef-4e32-ba07-dcfa15868e1e",
      "metadata": {
        "id": "d8c751c7-d8ef-4e32-ba07-dcfa15868e1e"
      },
      "outputs": [],
      "source": [
        "IMAGE_SIZE = 288\n",
        "BATCH_SIZE = 4\n",
        "OUT_CLASSES = 1\n",
        "TRAIN_SPLIT_RATIO = 0.90\n",
        "DATA_DIR = \"./DUTS-TE/\""
      ]
    },
    {
      "cell_type": "markdown",
      "id": "4f567db9-021c-486c-97d6-13ac94208c75",
      "metadata": {
        "id": "4f567db9-021c-486c-97d6-13ac94208c75"
      },
      "source": [
        "### **Create TensorFlow Dataset**"
      ]
    },
    {
      "cell_type": "markdown",
      "id": "f7ab804e-9796-4e8c-b58a-1cc9e3022582",
      "metadata": {
        "id": "f7ab804e-9796-4e8c-b58a-1cc9e3022582"
      },
      "source": [
        "We will use load_paths() to load and split 140 paths into train and validation set, and load_dataset() to convert paths into tf.data.Dataset object."
      ]
    },
    {
      "cell_type": "code",
      "source": [
        "def load_paths(path, split_ratio):\n",
        "    images = sorted(glob(os.path.join(path, \"DUTS-TE-Image/*\")))[:140]\n",
        "    masks = sorted(glob(os.path.join(path, \"DUTS-TE-Mask/*\")))[:140]\n",
        "    len_ = int(len(images) * split_ratio)\n",
        "    return (images[:len_], masks[:len_]), (images[len_:], masks[len_:])\n",
        "\n",
        "\n",
        "def read_image(path, size, mode):\n",
        "    x = keras.utils.load_img(path, target_size=size, color_mode=mode)\n",
        "    x = keras.utils.img_to_array(x)\n",
        "    x = (x / 255.0).astype(np.float32)\n",
        "    return x\n",
        "\n",
        "\n",
        "def preprocess(x_batch, y_batch, img_size, out_classes):\n",
        "    def f(_x, _y):\n",
        "        _x, _y = _x.decode(), _y.decode()\n",
        "        _x = read_image(_x, (img_size, img_size), mode=\"rgb\")  # image\n",
        "        _y = read_image(_y, (img_size, img_size), mode=\"grayscale\")  # mask\n",
        "        return _x, _y\n",
        "\n",
        "    images, masks = tf.numpy_function(f, [x_batch, y_batch], [tf.float32, tf.float32])\n",
        "    images.set_shape([img_size, img_size, 3])\n",
        "    masks.set_shape([img_size, img_size, out_classes])\n",
        "    return images, masks\n",
        "\n",
        "\n",
        "def load_dataset(image_paths, mask_paths, img_size, out_classes, batch, shuffle=True):\n",
        "    dataset = tf.data.Dataset.from_tensor_slices((image_paths, mask_paths))\n",
        "    if shuffle:\n",
        "        dataset = dataset.cache().shuffle(buffer_size=1000)\n",
        "    dataset = dataset.map(\n",
        "        lambda x, y: preprocess(x, y, img_size, out_classes),\n",
        "        num_parallel_calls=tf.data.AUTOTUNE,\n",
        "    )\n",
        "    dataset = dataset.batch(batch)\n",
        "    dataset = dataset.prefetch(tf.data.AUTOTUNE)\n",
        "    return dataset\n",
        "\n",
        "\n",
        "train_paths, val_paths = load_paths(DATA_DIR, TRAIN_SPLIT_RATIO)\n",
        "\n",
        "train_dataset = load_dataset(\n",
        "    train_paths[0], train_paths[1], IMAGE_SIZE, OUT_CLASSES, BATCH_SIZE, shuffle=True\n",
        ")\n",
        "val_dataset = load_dataset(\n",
        "    val_paths[0], val_paths[1], IMAGE_SIZE, OUT_CLASSES, BATCH_SIZE, shuffle=False\n",
        ")\n",
        "\n",
        "print(f\"Train Dataset: {train_dataset}\")\n",
        "print(f\"Validation Dataset: {val_dataset}\")"
      ],
      "metadata": {
        "colab": {
          "base_uri": "https://localhost:8080/"
        },
        "id": "zX3Drcx_AFVO",
        "outputId": "de1ead8c-d541-4bb5-8f91-00d2a7a390f9"
      },
      "id": "zX3Drcx_AFVO",
      "execution_count": null,
      "outputs": [
        {
          "output_type": "stream",
          "name": "stdout",
          "text": [
            "Train Dataset: <_PrefetchDataset element_spec=(TensorSpec(shape=(None, 288, 288, 3), dtype=tf.float32, name=None), TensorSpec(shape=(None, 288, 288, 1), dtype=tf.float32, name=None))>\n",
            "Validation Dataset: <_PrefetchDataset element_spec=(TensorSpec(shape=(None, 288, 288, 3), dtype=tf.float32, name=None), TensorSpec(shape=(None, 288, 288, 1), dtype=tf.float32, name=None))>\n"
          ]
        }
      ]
    },
    {
      "cell_type": "markdown",
      "id": "77e071e3-f7ec-4309-8a13-037bb183dc85",
      "metadata": {
        "id": "77e071e3-f7ec-4309-8a13-037bb183dc85"
      },
      "source": [
        "### **Visualize Data**"
      ]
    },
    {
      "cell_type": "code",
      "source": [
        "def display(display_list):\n",
        "    title = [\"Input Image\", \"True Mask\", \"Predicted Mask\"]\n",
        "\n",
        "    for i in range(len(display_list)):\n",
        "        plt.subplot(1, len(display_list), i + 1)\n",
        "        plt.title(title[i])\n",
        "        plt.imshow(keras.utils.array_to_img(display_list[i]), cmap=\"gray\")\n",
        "        plt.axis(\"off\")\n",
        "    plt.show()\n",
        "\n",
        "\n",
        "for image, mask in val_dataset.take(1):\n",
        "    display([image[0], mask[0]])"
      ],
      "metadata": {
        "colab": {
          "base_uri": "https://localhost:8080/",
          "height": 284
        },
        "id": "Rk9hi9W1ALWr",
        "outputId": "ea2ce4ac-6490-4660-b8a3-76eb41fd4dc8"
      },
      "id": "Rk9hi9W1ALWr",
      "execution_count": null,
      "outputs": [
        {
          "output_type": "display_data",
          "data": {
            "text/plain": [
              "<Figure size 640x480 with 2 Axes>"
            ],
            "image/png": "[encoded data removed]"
          },
          "metadata": {}
        }
      ]
    },
    {
      "cell_type": "markdown",
      "id": "523fd4cc-e18f-4e6f-a202-d4dff0cd1556",
      "metadata": {
        "id": "523fd4cc-e18f-4e6f-a202-d4dff0cd1556"
      },
      "source": [
        "### **Analyze Mask**"
      ]
    },
    {
      "cell_type": "markdown",
      "id": "6625ae4a-0714-4b63-910e-c3133c1d912f",
      "metadata": {
        "id": "6625ae4a-0714-4b63-910e-c3133c1d912f"
      },
      "source": [
        "Lets print unique values of above displayed mask. You can see despite belonging to one class, it's intensity is changing between low(0) to high(255). This variation in intensity makes it hard for network to generate good segmentation map for salient or camouflaged object segmentation. Because of its Residual Refined Module (RMs), BASNet is good in generating highly accurate boundaries and fine structures."
      ]
    },
    {
      "cell_type": "code",
      "source": [
        "print(f\"Unique values count: {len(np.unique((mask[0] * 255)))}\")\n",
        "print(\"Unique values:\")\n",
        "print(np.unique((mask[0] * 255)).astype(int))"
      ],
      "metadata": {
        "colab": {
          "base_uri": "https://localhost:8080/"
        },
        "id": "p_i9czE6AMDk",
        "outputId": "bf3d0bac-b210-4f0f-ba89-435786b15727"
      },
      "id": "p_i9czE6AMDk",
      "execution_count": null,
      "outputs": [
        {
          "output_type": "stream",
          "name": "stdout",
          "text": [
            "Unique values count: 245\n",
            "Unique values:\n",
            "[  0   1   2   3   4   5   6   7   8   9  10  11  12  13  14  15  16  17\n",
            "  18  19  20  21  22  23  24  25  26  27  28  29  30  31  32  33  34  35\n",
            "  36  37  38  39  40  41  42  43  44  45  46  47  48  49  50  51  52  53\n",
            "  54  55  56  57  58  59  61  62  63  65  66  67  68  69  70  71  73  74\n",
            "  75  76  77  78  79  80  81  82  83  84  85  86  87  88  89  90  91  92\n",
            "  93  94  95  96  97  98  99 100 101 102 103 104 105 108 109 110 111 112\n",
            " 113 114 115 116 117 118 119 120 122 123 124 125 128 129 130 131 132 133\n",
            " 134 135 136 137 138 139 140 141 142 144 145 146 147 148 149 150 151 152\n",
            " 153 154 155 156 157 158 159 160 161 162 163 164 165 166 167 168 170 171\n",
            " 172 173 174 175 176 177 178 179 180 181 182 183 184 185 186 187 188 189\n",
            " 190 191 192 193 194 195 196 197 198 199 201 202 203 204 205 206 207 208\n",
            " 209 210 211 212 213 214 215 216 217 218 219 220 221 222 223 224 225 226\n",
            " 227 228 229 230 231 232 233 234 235 236 237 238 239 240 241 242 243 244\n",
            " 245 246 247 248 249 250 251 252 253 254 255]\n"
          ]
        }
      ]
    },
    {
      "cell_type": "markdown",
      "id": "305aed33-91b7-49b9-b7fe-f7843b7d5524",
      "metadata": {
        "id": "305aed33-91b7-49b9-b7fe-f7843b7d5524"
      },
      "source": [
        "### **Building the BASNet Model**"
      ]
    },
    {
      "cell_type": "markdown",
      "id": "82d90ded-19f2-43bf-97b2-53c684eb65a3",
      "metadata": {
        "id": "82d90ded-19f2-43bf-97b2-53c684eb65a3"
      },
      "source": [
        "BASNet comprises of a predict-refine architecture and a hybrid loss. The predict-refine architecture consists of a densely supervised encoder-decoder network and a residual refinement module, which are respectively used to predict and refine a segmentation probability map.\n",
        "![image.png](attachment:033a45c1-bc22-4c2d-9adc-d042026f91b2.png)"
      ]
    },
    {
      "cell_type": "code",
      "source": [
        "def basic_block(x_input, filters, stride=1, down_sample=None, activation=None):\n",
        "    \"\"\"Creates a residual(identity) block with two 3*3 convolutions.\"\"\"\n",
        "    residual = x_input\n",
        "\n",
        "    x = layers.Conv2D(filters, (3, 3), strides=stride, padding=\"same\", use_bias=False)(\n",
        "        x_input\n",
        "    )\n",
        "    x = layers.BatchNormalization()(x)\n",
        "    x = layers.Activation(\"relu\")(x)\n",
        "\n",
        "    x = layers.Conv2D(filters, (3, 3), strides=(1, 1), padding=\"same\", use_bias=False)(\n",
        "        x\n",
        "    )\n",
        "    x = layers.BatchNormalization()(x)\n",
        "\n",
        "    if down_sample is not None:\n",
        "        residual = down_sample\n",
        "\n",
        "    x = layers.Add()([x, residual])\n",
        "\n",
        "    if activation is not None:\n",
        "        x = layers.Activation(activation)(x)\n",
        "\n",
        "    return x\n",
        "\n",
        "\n",
        "def convolution_block(x_input, filters, dilation=1):\n",
        "    \"\"\"Apply convolution + batch normalization + relu layer.\"\"\"\n",
        "    x = layers.Conv2D(filters, (3, 3), padding=\"same\", dilation_rate=dilation)(x_input)\n",
        "    x = layers.BatchNormalization()(x)\n",
        "    return layers.Activation(\"relu\")(x)\n",
        "\n",
        "\n",
        "def segmentation_head(x_input, out_classes, final_size):\n",
        "    \"\"\"Map each decoder stage output to model output classes.\"\"\"\n",
        "    x = layers.Conv2D(out_classes, kernel_size=(3, 3), padding=\"same\")(x_input)\n",
        "\n",
        "    if final_size is not None:\n",
        "        x = layers.Resizing(final_size[0], final_size[1])(x)\n",
        "\n",
        "    return x\n",
        "\n",
        "\n",
        "def get_resnet_block(_resnet, block_num):\n",
        "    \"\"\"Extract and return ResNet-34 block.\"\"\"\n",
        "    resnet_layers = [3, 4, 6, 3]  # ResNet-34 layer sizes at different block.\n",
        "    return keras.models.Model(\n",
        "        inputs=_resnet.get_layer(f\"v2_stack_{block_num}_block1_1_conv\").input,\n",
        "        outputs=_resnet.get_layer(\n",
        "            f\"v2_stack_{block_num}_block{resnet_layers[block_num]}_add\"\n",
        "        ).output,\n",
        "        name=f\"resnet34_block{block_num + 1}\",\n",
        "    )"
      ],
      "metadata": {
        "id": "DwSTejAvAN_c"
      },
      "id": "DwSTejAvAN_c",
      "execution_count": null,
      "outputs": []
    },
    {
      "cell_type": "markdown",
      "id": "92de47f4-0e23-4a68-b2e1-e5c522da9c65",
      "metadata": {
        "id": "92de47f4-0e23-4a68-b2e1-e5c522da9c65"
      },
      "source": [
        "### **Prediction Module**"
      ]
    },
    {
      "cell_type": "markdown",
      "id": "b9ae3bba-1eee-4e0c-88d0-3ba6ab0a0b0e",
      "metadata": {
        "id": "b9ae3bba-1eee-4e0c-88d0-3ba6ab0a0b0e"
      },
      "source": [
        "Prediction module is a heavy encoder decoder structure like U-Net. The encoder includes an input convolutional layer and six stages. First four are adopted from ResNet-34 and rest are basic res-blocks. Since first convolution and pooling layer of ResNet-34 is skipped so we will use get_resnet_block() to extract first four blocks. Both bridge and decoder uses three convolutional layers with side outputs. The module produces seven segmentation probability maps during training, with the last one considered the final output."
      ]
    },
    {
      "cell_type": "code",
      "source": [
        "def basnet_predict(input_shape, out_classes):\n",
        "    \"\"\"BASNet Prediction Module, it outputs coarse label map.\"\"\"\n",
        "    filters = 64\n",
        "    num_stages = 6\n",
        "\n",
        "    x_input = layers.Input(input_shape)\n",
        "\n",
        "    # -------------Encoder--------------\n",
        "    x = layers.Conv2D(filters, kernel_size=(3, 3), padding=\"same\")(x_input)\n",
        "\n",
        "    resnet = keras_cv.models.ResNet34Backbone(\n",
        "        include_rescaling=False,\n",
        "    )\n",
        "\n",
        "    encoder_blocks = []\n",
        "    for i in range(num_stages):\n",
        "        if i < 4:  # First four stages are adopted from ResNet-34 blocks.\n",
        "            x = get_resnet_block(resnet, i)(x)\n",
        "            encoder_blocks.append(x)\n",
        "            x = layers.Activation(\"relu\")(x)\n",
        "        else:  # Last 2 stages consist of three basic resnet blocks.\n",
        "            x = layers.MaxPool2D(pool_size=(2, 2), strides=(2, 2))(x)\n",
        "            x = basic_block(x, filters=filters * 8, activation=\"relu\")\n",
        "            x = basic_block(x, filters=filters * 8, activation=\"relu\")\n",
        "            x = basic_block(x, filters=filters * 8, activation=\"relu\")\n",
        "            encoder_blocks.append(x)\n",
        "\n",
        "    # -------------Bridge-------------\n",
        "    x = convolution_block(x, filters=filters * 8, dilation=2)\n",
        "    x = convolution_block(x, filters=filters * 8, dilation=2)\n",
        "    x = convolution_block(x, filters=filters * 8, dilation=2)\n",
        "    encoder_blocks.append(x)\n",
        "\n",
        "    # -------------Decoder-------------\n",
        "    decoder_blocks = []\n",
        "    for i in reversed(range(num_stages)):\n",
        "        if i != (num_stages - 1):  # Except first, scale other decoder stages.\n",
        "            shape = keras.backend.int_shape(x)\n",
        "            x = layers.Resizing(shape[1] * 2, shape[2] * 2)(x)\n",
        "\n",
        "        x = layers.concatenate([encoder_blocks[i], x], axis=-1)\n",
        "        x = convolution_block(x, filters=filters * 8)\n",
        "        x = convolution_block(x, filters=filters * 8)\n",
        "        x = convolution_block(x, filters=filters * 8)\n",
        "        decoder_blocks.append(x)\n",
        "\n",
        "    decoder_blocks.reverse()  # Change order from last to first decoder stage.\n",
        "    decoder_blocks.append(encoder_blocks[-1])  # Copy bridge to decoder.\n",
        "\n",
        "    # -------------Side Outputs--------------\n",
        "    decoder_blocks = [\n",
        "        segmentation_head(decoder_block, out_classes, input_shape[:2])\n",
        "        for decoder_block in decoder_blocks\n",
        "    ]\n",
        "\n",
        "    return keras.models.Model(inputs=[x_input], outputs=decoder_blocks)\n"
      ],
      "metadata": {
        "id": "s8bzU8W8AOu4"
      },
      "id": "s8bzU8W8AOu4",
      "execution_count": null,
      "outputs": []
    },
    {
      "cell_type": "markdown",
      "id": "0567c164-c94b-41da-884f-0fa7a4f746f0",
      "metadata": {
        "id": "0567c164-c94b-41da-884f-0fa7a4f746f0"
      },
      "source": [
        "### **Residual Refinement Module**"
      ]
    },
    {
      "cell_type": "markdown",
      "id": "ced6e13a-ffc7-431b-80cf-0afe37d3ac5c",
      "metadata": {
        "id": "ced6e13a-ffc7-431b-80cf-0afe37d3ac5c"
      },
      "source": [
        "Refinement Modules (RMs), designed as a residual block aim to refines the coarse(blurry and noisy boundaries) segmentation maps generated by prediction module. Similar to prediction module it's also an encode decoder structure but with light weight 4 stages, each containing one convolutional block() init. At the end it adds both coarse and residual output to generate refined output."
      ]
    },
    {
      "cell_type": "code",
      "source": [
        "def basnet_rrm(base_model, out_classes):\n",
        "    \"\"\"BASNet Residual Refinement Module(RRM) module, output fine label map.\"\"\"\n",
        "    num_stages = 4\n",
        "    filters = 64\n",
        "\n",
        "    x_input = base_model.output[0]\n",
        "\n",
        "    # -------------Encoder--------------\n",
        "    x = layers.Conv2D(filters, kernel_size=(3, 3), padding=\"same\")(x_input)\n",
        "\n",
        "    encoder_blocks = []\n",
        "    for _ in range(num_stages):\n",
        "        x = convolution_block(x, filters=filters)\n",
        "        encoder_blocks.append(x)\n",
        "        x = layers.MaxPool2D(pool_size=(2, 2), strides=(2, 2))(x)\n",
        "\n",
        "    # -------------Bridge--------------\n",
        "    x = convolution_block(x, filters=filters)\n",
        "\n",
        "    # -------------Decoder--------------\n",
        "    for i in reversed(range(num_stages)):\n",
        "        shape = keras.backend.int_shape(x)\n",
        "        x = layers.Resizing(shape[1] * 2, shape[2] * 2)(x)\n",
        "        x = layers.concatenate([encoder_blocks[i], x], axis=-1)\n",
        "        x = convolution_block(x, filters=filters)\n",
        "\n",
        "    x = segmentation_head(x, out_classes, None)  # Segmentation head.\n",
        "\n",
        "    # ------------- refined = coarse + residual\n",
        "    x = layers.Add()([x_input, x])  # Add prediction + refinement output\n",
        "\n",
        "    return keras.models.Model(inputs=[base_model.input], outputs=[x])\n"
      ],
      "metadata": {
        "id": "1lCfM-JrAQv9"
      },
      "id": "1lCfM-JrAQv9",
      "execution_count": null,
      "outputs": []
    },
    {
      "cell_type": "markdown",
      "id": "153df1d2-88ca-4e80-93dd-dddc56a2e4ec",
      "metadata": {
        "id": "153df1d2-88ca-4e80-93dd-dddc56a2e4ec"
      },
      "source": [
        "### **Combine Predict and Refinement Module**"
      ]
    },
    {
      "cell_type": "code",
      "source": [
        "def basnet(input_shape, out_classes):\n",
        "    \"\"\"BASNet, it's a combination of two modules\n",
        "    Prediction Module and Residual Refinement Module(RRM).\"\"\"\n",
        "\n",
        "    # Prediction model.\n",
        "    predict_model = basnet_predict(input_shape, out_classes)\n",
        "    # Refinement model.\n",
        "    refine_model = basnet_rrm(predict_model, out_classes)\n",
        "\n",
        "    output = [refine_model.output]  # Combine outputs.\n",
        "    output.extend(predict_model.output)\n",
        "\n",
        "    output = [layers.Activation(\"sigmoid\")(_) for _ in output]  # Activations.\n",
        "\n",
        "    return keras.models.Model(inputs=[predict_model.input], outputs=output)\n"
      ],
      "metadata": {
        "id": "5Er01wi1ASq5"
      },
      "id": "5Er01wi1ASq5",
      "execution_count": null,
      "outputs": []
    },
    {
      "cell_type": "markdown",
      "id": "2fdb5380-8812-4fbe-93a6-fac787acfdaf",
      "metadata": {
        "id": "2fdb5380-8812-4fbe-93a6-fac787acfdaf"
      },
      "source": [
        "### **Hybrid Loss Function**"
      ]
    },
    {
      "cell_type": "code",
      "source": [
        "class BasnetLoss(keras.losses.Loss):\n",
        "    \"\"\"BASNet hybrid loss.\"\"\"\n",
        "\n",
        "    def __init__(self, **kwargs):\n",
        "        super().__init__(name=\"basnet_loss\", **kwargs)\n",
        "        self.smooth = 1.0e-9\n",
        "\n",
        "        # Binary Cross Entropy loss.\n",
        "        self.cross_entropy_loss = keras.losses.BinaryCrossentropy()\n",
        "        # Structural Similarity Index value.\n",
        "        self.ssim_value = tf.image.ssim\n",
        "        #  Jaccard / IoU loss.\n",
        "        self.iou_value = self.calculate_iou\n",
        "\n",
        "    def calculate_iou(\n",
        "        self,\n",
        "        y_true,\n",
        "        y_pred,\n",
        "    ):\n",
        "        \"\"\"Calculate intersection over union (IoU) between images.\"\"\"\n",
        "        intersection = backend.sum(backend.abs(y_true * y_pred), axis=[1, 2, 3])\n",
        "        union = backend.sum(y_true, [1, 2, 3]) + backend.sum(y_pred, [1, 2, 3])\n",
        "        union = union - intersection\n",
        "        return backend.mean(\n",
        "            (intersection + self.smooth) / (union + self.smooth), axis=0\n",
        "        )\n",
        "\n",
        "    def call(self, y_true, y_pred):\n",
        "        cross_entropy_loss = self.cross_entropy_loss(y_true, y_pred)\n",
        "\n",
        "        ssim_value = self.ssim_value(y_true, y_pred, max_val=1)\n",
        "        ssim_loss = backend.mean(1 - ssim_value + self.smooth, axis=0)\n",
        "\n",
        "        iou_value = self.iou_value(y_true, y_pred)\n",
        "        iou_loss = 1 - iou_value\n",
        "\n",
        "        # Add all three losses.\n",
        "        return cross_entropy_loss + ssim_loss + iou_loss\n",
        "\n",
        "\n",
        "basnet_model = basnet(\n",
        "    input_shape=[IMAGE_SIZE, IMAGE_SIZE, 3], out_classes=OUT_CLASSES\n",
        ")  # Create model.\n",
        "basnet_model.summary()  # Show model summary.\n",
        "\n",
        "optimizer = keras.optimizers.Adam(learning_rate=1e-4, epsilon=1e-8)\n",
        "# Compile model.\n",
        "basnet_model.compile(\n",
        "    loss=BasnetLoss(),\n",
        "    optimizer=optimizer,\n",
        "    metrics=[keras.metrics.MeanAbsoluteError(name=\"mae\")],\n",
        ")"
      ],
      "metadata": {
        "colab": {
          "base_uri": "https://localhost:8080/"
        },
        "id": "xE2SzWZpAUhE",
        "outputId": "77e6d3d1-a322-4fdc-a8d3-3ebfc9d4d90f"
      },
      "id": "xE2SzWZpAUhE",
      "execution_count": null,
      "outputs": [
        {
          "output_type": "stream",
          "name": "stderr",
          "text": [
            "Downloading from https://www.kaggle.com/api/v1/models/keras/resnetv1/keras/resnet34/2/download/config.json...\n",
            "100%|██████████| 767/767 [00:00<00:00, 506kB/s]\n"
          ]
        },
        {
          "output_type": "stream",
          "name": "stdout",
          "text": [
            "Model: \"model_2\"\n",
            "__________________________________________________________________________________________________\n",
            " Layer (type)                Output Shape                 Param #   Connected to                  \n",
            "==================================================================================================\n",
            " input_1 (InputLayer)        [(None, 288, 288, 3)]        0         []                            \n",
            "                                                                                                  \n",
            " conv2d (Conv2D)             (None, 288, 288, 64)         1792      ['input_1[0][0]']             \n",
            "                                                                                                  \n",
            " resnet34_block1 (Functiona  (None, None, None, 64)       222720    ['conv2d[0][0]']              \n",
            " l)                                                                                               \n",
            "                                                                                                  \n",
            " activation (Activation)     (None, 288, 288, 64)         0         ['resnet34_block1[0][0]']     \n",
            "                                                                                                  \n",
            " resnet34_block2 (Functiona  (None, None, None, 128)      1118720   ['activation[0][0]']          \n",
            " l)                                                                                               \n",
            "                                                                                                  \n",
            " activation_1 (Activation)   (None, 144, 144, 128)        0         ['resnet34_block2[0][0]']     \n",
            "                                                                                                  \n",
            " resnet34_block3 (Functiona  (None, None, None, 256)      6829056   ['activation_1[0][0]']        \n",
            " l)                                                                                               \n",
            "                                                                                                  \n",
            " activation_2 (Activation)   (None, 72, 72, 256)          0         ['resnet34_block3[0][0]']     \n",
            "                                                                                                  \n",
            " resnet34_block4 (Functiona  (None, None, None, 512)      1312153   ['activation_2[0][0]']        \n",
            " l)                                                       6                                       \n",
            "                                                                                                  \n",
            " activation_3 (Activation)   (None, 36, 36, 512)          0         ['resnet34_block4[0][0]']     \n",
            "                                                                                                  \n",
            " max_pooling2d (MaxPooling2  (None, 18, 18, 512)          0         ['activation_3[0][0]']        \n",
            " D)                                                                                               \n",
            "                                                                                                  \n",
            " conv2d_1 (Conv2D)           (None, 18, 18, 512)          2359296   ['max_pooling2d[0][0]']       \n",
            "                                                                                                  \n",
            " batch_normalization (Batch  (None, 18, 18, 512)          2048      ['conv2d_1[0][0]']            \n",
            " Normalization)                                                                                   \n",
            "                                                                                                  \n",
            " activation_4 (Activation)   (None, 18, 18, 512)          0         ['batch_normalization[0][0]'] \n",
            "                                                                                                  \n",
            " conv2d_2 (Conv2D)           (None, 18, 18, 512)          2359296   ['activation_4[0][0]']        \n",
            "                                                                                                  \n",
            " batch_normalization_1 (Bat  (None, 18, 18, 512)          2048      ['conv2d_2[0][0]']            \n",
            " chNormalization)                                                                                 \n",
            "                                                                                                  \n",
            " add (Add)                   (None, 18, 18, 512)          0         ['batch_normalization_1[0][0]'\n",
            "                                                                    , 'max_pooling2d[0][0]']      \n",
            "                                                                                                  \n",
            " activation_5 (Activation)   (None, 18, 18, 512)          0         ['add[0][0]']                 \n",
            "                                                                                                  \n",
            " conv2d_3 (Conv2D)           (None, 18, 18, 512)          2359296   ['activation_5[0][0]']        \n",
            "                                                                                                  \n",
            " batch_normalization_2 (Bat  (None, 18, 18, 512)          2048      ['conv2d_3[0][0]']            \n",
            " chNormalization)                                                                                 \n",
            "                                                                                                  \n",
            " activation_6 (Activation)   (None, 18, 18, 512)          0         ['batch_normalization_2[0][0]'\n",
            "                                                                    ]                             \n",
            "                                                                                                  \n",
            " conv2d_4 (Conv2D)           (None, 18, 18, 512)          2359296   ['activation_6[0][0]']        \n",
            "                                                                                                  \n",
            " batch_normalization_3 (Bat  (None, 18, 18, 512)          2048      ['conv2d_4[0][0]']            \n",
            " chNormalization)                                                                                 \n",
            "                                                                                                  \n",
            " add_1 (Add)                 (None, 18, 18, 512)          0         ['batch_normalization_3[0][0]'\n",
            "                                                                    , 'activation_5[0][0]']       \n",
            "                                                                                                  \n",
            " activation_7 (Activation)   (None, 18, 18, 512)          0         ['add_1[0][0]']               \n",
            "                                                                                                  \n",
            " conv2d_5 (Conv2D)           (None, 18, 18, 512)          2359296   ['activation_7[0][0]']        \n",
            "                                                                                                  \n",
            " batch_normalization_4 (Bat  (None, 18, 18, 512)          2048      ['conv2d_5[0][0]']            \n",
            " chNormalization)                                                                                 \n",
            "                                                                                                  \n",
            " activation_8 (Activation)   (None, 18, 18, 512)          0         ['batch_normalization_4[0][0]'\n",
            "                                                                    ]                             \n",
            "                                                                                                  \n",
            " conv2d_6 (Conv2D)           (None, 18, 18, 512)          2359296   ['activation_8[0][0]']        \n",
            "                                                                                                  \n",
            " batch_normalization_5 (Bat  (None, 18, 18, 512)          2048      ['conv2d_6[0][0]']            \n",
            " chNormalization)                                                                                 \n",
            "                                                                                                  \n",
            " add_2 (Add)                 (None, 18, 18, 512)          0         ['batch_normalization_5[0][0]'\n",
            "                                                                    , 'activation_7[0][0]']       \n",
            "                                                                                                  \n",
            " activation_9 (Activation)   (None, 18, 18, 512)          0         ['add_2[0][0]']               \n",
            "                                                                                                  \n",
            " max_pooling2d_1 (MaxPoolin  (None, 9, 9, 512)            0         ['activation_9[0][0]']        \n",
            " g2D)                                                                                             \n",
            "                                                                                                  \n",
            " conv2d_7 (Conv2D)           (None, 9, 9, 512)            2359296   ['max_pooling2d_1[0][0]']     \n",
            "                                                                                                  \n",
            " batch_normalization_6 (Bat  (None, 9, 9, 512)            2048      ['conv2d_7[0][0]']            \n",
            " chNormalization)                                                                                 \n",
            "                                                                                                  \n",
            " activation_10 (Activation)  (None, 9, 9, 512)            0         ['batch_normalization_6[0][0]'\n",
            "                                                                    ]                             \n",
            "                                                                                                  \n",
            " conv2d_8 (Conv2D)           (None, 9, 9, 512)            2359296   ['activation_10[0][0]']       \n",
            "                                                                                                  \n",
            " batch_normalization_7 (Bat  (None, 9, 9, 512)            2048      ['conv2d_8[0][0]']            \n",
            " chNormalization)                                                                                 \n",
            "                                                                                                  \n",
            " add_3 (Add)                 (None, 9, 9, 512)            0         ['batch_normalization_7[0][0]'\n",
            "                                                                    , 'max_pooling2d_1[0][0]']    \n",
            "                                                                                                  \n",
            " activation_11 (Activation)  (None, 9, 9, 512)            0         ['add_3[0][0]']               \n",
            "                                                                                                  \n",
            " conv2d_9 (Conv2D)           (None, 9, 9, 512)            2359296   ['activation_11[0][0]']       \n",
            "                                                                                                  \n",
            " batch_normalization_8 (Bat  (None, 9, 9, 512)            2048      ['conv2d_9[0][0]']            \n",
            " chNormalization)                                                                                 \n",
            "                                                                                                  \n",
            " activation_12 (Activation)  (None, 9, 9, 512)            0         ['batch_normalization_8[0][0]'\n",
            "                                                                    ]                             \n",
            "                                                                                                  \n",
            " conv2d_10 (Conv2D)          (None, 9, 9, 512)            2359296   ['activation_12[0][0]']       \n",
            "                                                                                                  \n",
            " batch_normalization_9 (Bat  (None, 9, 9, 512)            2048      ['conv2d_10[0][0]']           \n",
            " chNormalization)                                                                                 \n",
            "                                                                                                  \n",
            " add_4 (Add)                 (None, 9, 9, 512)            0         ['batch_normalization_9[0][0]'\n",
            "                                                                    , 'activation_11[0][0]']      \n",
            "                                                                                                  \n",
            " activation_13 (Activation)  (None, 9, 9, 512)            0         ['add_4[0][0]']               \n",
            "                                                                                                  \n",
            " conv2d_11 (Conv2D)          (None, 9, 9, 512)            2359296   ['activation_13[0][0]']       \n",
            "                                                                                                  \n",
            " batch_normalization_10 (Ba  (None, 9, 9, 512)            2048      ['conv2d_11[0][0]']           \n",
            " tchNormalization)                                                                                \n",
            "                                                                                                  \n",
            " activation_14 (Activation)  (None, 9, 9, 512)            0         ['batch_normalization_10[0][0]\n",
            "                                                                    ']                            \n",
            "                                                                                                  \n",
            " conv2d_12 (Conv2D)          (None, 9, 9, 512)            2359296   ['activation_14[0][0]']       \n",
            "                                                                                                  \n",
            " batch_normalization_11 (Ba  (None, 9, 9, 512)            2048      ['conv2d_12[0][0]']           \n",
            " tchNormalization)                                                                                \n",
            "                                                                                                  \n",
            " add_5 (Add)                 (None, 9, 9, 512)            0         ['batch_normalization_11[0][0]\n",
            "                                                                    ',                            \n",
            "                                                                     'activation_13[0][0]']       \n",
            "                                                                                                  \n",
            " activation_15 (Activation)  (None, 9, 9, 512)            0         ['add_5[0][0]']               \n",
            "                                                                                                  \n",
            " conv2d_13 (Conv2D)          (None, 9, 9, 512)            2359808   ['activation_15[0][0]']       \n",
            "                                                                                                  \n",
            " batch_normalization_12 (Ba  (None, 9, 9, 512)            2048      ['conv2d_13[0][0]']           \n",
            " tchNormalization)                                                                                \n",
            "                                                                                                  \n",
            " activation_16 (Activation)  (None, 9, 9, 512)            0         ['batch_normalization_12[0][0]\n",
            "                                                                    ']                            \n",
            "                                                                                                  \n",
            " conv2d_14 (Conv2D)          (None, 9, 9, 512)            2359808   ['activation_16[0][0]']       \n",
            "                                                                                                  \n",
            " batch_normalization_13 (Ba  (None, 9, 9, 512)            2048      ['conv2d_14[0][0]']           \n",
            " tchNormalization)                                                                                \n",
            "                                                                                                  \n",
            " activation_17 (Activation)  (None, 9, 9, 512)            0         ['batch_normalization_13[0][0]\n",
            "                                                                    ']                            \n",
            "                                                                                                  \n",
            " conv2d_15 (Conv2D)          (None, 9, 9, 512)            2359808   ['activation_17[0][0]']       \n",
            "                                                                                                  \n",
            " batch_normalization_14 (Ba  (None, 9, 9, 512)            2048      ['conv2d_15[0][0]']           \n",
            " tchNormalization)                                                                                \n",
            "                                                                                                  \n",
            " activation_18 (Activation)  (None, 9, 9, 512)            0         ['batch_normalization_14[0][0]\n",
            "                                                                    ']                            \n",
            "                                                                                                  \n",
            " concatenate (Concatenate)   (None, 9, 9, 1024)           0         ['activation_15[0][0]',       \n",
            "                                                                     'activation_18[0][0]']       \n",
            "                                                                                                  \n",
            " conv2d_16 (Conv2D)          (None, 9, 9, 512)            4719104   ['concatenate[0][0]']         \n",
            "                                                                                                  \n",
            " batch_normalization_15 (Ba  (None, 9, 9, 512)            2048      ['conv2d_16[0][0]']           \n",
            " tchNormalization)                                                                                \n",
            "                                                                                                  \n",
            " activation_19 (Activation)  (None, 9, 9, 512)            0         ['batch_normalization_15[0][0]\n",
            "                                                                    ']                            \n",
            "                                                                                                  \n",
            " conv2d_17 (Conv2D)          (None, 9, 9, 512)            2359808   ['activation_19[0][0]']       \n",
            "                                                                                                  \n",
            " batch_normalization_16 (Ba  (None, 9, 9, 512)            2048      ['conv2d_17[0][0]']           \n",
            " tchNormalization)                                                                                \n",
            "                                                                                                  \n",
            " activation_20 (Activation)  (None, 9, 9, 512)            0         ['batch_normalization_16[0][0]\n",
            "                                                                    ']                            \n",
            "                                                                                                  \n",
            " conv2d_18 (Conv2D)          (None, 9, 9, 512)            2359808   ['activation_20[0][0]']       \n",
            "                                                                                                  \n",
            " batch_normalization_17 (Ba  (None, 9, 9, 512)            2048      ['conv2d_18[0][0]']           \n",
            " tchNormalization)                                                                                \n",
            "                                                                                                  \n",
            " activation_21 (Activation)  (None, 9, 9, 512)            0         ['batch_normalization_17[0][0]\n",
            "                                                                    ']                            \n",
            "                                                                                                  \n",
            " resizing (Resizing)         (None, 18, 18, 512)          0         ['activation_21[0][0]']       \n",
            "                                                                                                  \n",
            " concatenate_1 (Concatenate  (None, 18, 18, 1024)         0         ['activation_9[0][0]',        \n",
            " )                                                                   'resizing[0][0]']            \n",
            "                                                                                                  \n",
            " conv2d_19 (Conv2D)          (None, 18, 18, 512)          4719104   ['concatenate_1[0][0]']       \n",
            "                                                                                                  \n",
            " batch_normalization_18 (Ba  (None, 18, 18, 512)          2048      ['conv2d_19[0][0]']           \n",
            " tchNormalization)                                                                                \n",
            "                                                                                                  \n",
            " activation_22 (Activation)  (None, 18, 18, 512)          0         ['batch_normalization_18[0][0]\n",
            "                                                                    ']                            \n",
            "                                                                                                  \n",
            " conv2d_20 (Conv2D)          (None, 18, 18, 512)          2359808   ['activation_22[0][0]']       \n",
            "                                                                                                  \n",
            " batch_normalization_19 (Ba  (None, 18, 18, 512)          2048      ['conv2d_20[0][0]']           \n",
            " tchNormalization)                                                                                \n",
            "                                                                                                  \n",
            " activation_23 (Activation)  (None, 18, 18, 512)          0         ['batch_normalization_19[0][0]\n",
            "                                                                    ']                            \n",
            "                                                                                                  \n",
            " conv2d_21 (Conv2D)          (None, 18, 18, 512)          2359808   ['activation_23[0][0]']       \n",
            "                                                                                                  \n",
            " batch_normalization_20 (Ba  (None, 18, 18, 512)          2048      ['conv2d_21[0][0]']           \n",
            " tchNormalization)                                                                                \n",
            "                                                                                                  \n",
            " activation_24 (Activation)  (None, 18, 18, 512)          0         ['batch_normalization_20[0][0]\n",
            "                                                                    ']                            \n",
            "                                                                                                  \n",
            " resizing_1 (Resizing)       (None, 36, 36, 512)          0         ['activation_24[0][0]']       \n",
            "                                                                                                  \n",
            " concatenate_2 (Concatenate  (None, 36, 36, 1024)         0         ['resnet34_block4[0][0]',     \n",
            " )                                                                   'resizing_1[0][0]']          \n",
            "                                                                                                  \n",
            " conv2d_22 (Conv2D)          (None, 36, 36, 512)          4719104   ['concatenate_2[0][0]']       \n",
            "                                                                                                  \n",
            " batch_normalization_21 (Ba  (None, 36, 36, 512)          2048      ['conv2d_22[0][0]']           \n",
            " tchNormalization)                                                                                \n",
            "                                                                                                  \n",
            " activation_25 (Activation)  (None, 36, 36, 512)          0         ['batch_normalization_21[0][0]\n",
            "                                                                    ']                            \n",
            "                                                                                                  \n",
            " conv2d_23 (Conv2D)          (None, 36, 36, 512)          2359808   ['activation_25[0][0]']       \n",
            "                                                                                                  \n",
            " batch_normalization_22 (Ba  (None, 36, 36, 512)          2048      ['conv2d_23[0][0]']           \n",
            " tchNormalization)                                                                                \n",
            "                                                                                                  \n",
            " activation_26 (Activation)  (None, 36, 36, 512)          0         ['batch_normalization_22[0][0]\n",
            "                                                                    ']                            \n",
            "                                                                                                  \n",
            " conv2d_24 (Conv2D)          (None, 36, 36, 512)          2359808   ['activation_26[0][0]']       \n",
            "                                                                                                  \n",
            " batch_normalization_23 (Ba  (None, 36, 36, 512)          2048      ['conv2d_24[0][0]']           \n",
            " tchNormalization)                                                                                \n",
            "                                                                                                  \n",
            " activation_27 (Activation)  (None, 36, 36, 512)          0         ['batch_normalization_23[0][0]\n",
            "                                                                    ']                            \n",
            "                                                                                                  \n",
            " resizing_2 (Resizing)       (None, 72, 72, 512)          0         ['activation_27[0][0]']       \n",
            "                                                                                                  \n",
            " concatenate_3 (Concatenate  (None, 72, 72, 768)          0         ['resnet34_block3[0][0]',     \n",
            " )                                                                   'resizing_2[0][0]']          \n",
            "                                                                                                  \n",
            " conv2d_25 (Conv2D)          (None, 72, 72, 512)          3539456   ['concatenate_3[0][0]']       \n",
            "                                                                                                  \n",
            " batch_normalization_24 (Ba  (None, 72, 72, 512)          2048      ['conv2d_25[0][0]']           \n",
            " tchNormalization)                                                                                \n",
            "                                                                                                  \n",
            " activation_28 (Activation)  (None, 72, 72, 512)          0         ['batch_normalization_24[0][0]\n",
            "                                                                    ']                            \n",
            "                                                                                                  \n",
            " conv2d_26 (Conv2D)          (None, 72, 72, 512)          2359808   ['activation_28[0][0]']       \n",
            "                                                                                                  \n",
            " batch_normalization_25 (Ba  (None, 72, 72, 512)          2048      ['conv2d_26[0][0]']           \n",
            " tchNormalization)                                                                                \n",
            "                                                                                                  \n",
            " activation_29 (Activation)  (None, 72, 72, 512)          0         ['batch_normalization_25[0][0]\n",
            "                                                                    ']                            \n",
            "                                                                                                  \n",
            " conv2d_27 (Conv2D)          (None, 72, 72, 512)          2359808   ['activation_29[0][0]']       \n",
            "                                                                                                  \n",
            " batch_normalization_26 (Ba  (None, 72, 72, 512)          2048      ['conv2d_27[0][0]']           \n",
            " tchNormalization)                                                                                \n",
            "                                                                                                  \n",
            " activation_30 (Activation)  (None, 72, 72, 512)          0         ['batch_normalization_26[0][0]\n",
            "                                                                    ']                            \n",
            "                                                                                                  \n",
            " resizing_3 (Resizing)       (None, 144, 144, 512)        0         ['activation_30[0][0]']       \n",
            "                                                                                                  \n",
            " concatenate_4 (Concatenate  (None, 144, 144, 640)        0         ['resnet34_block2[0][0]',     \n",
            " )                                                                   'resizing_3[0][0]']          \n",
            "                                                                                                  \n",
            " conv2d_28 (Conv2D)          (None, 144, 144, 512)        2949632   ['concatenate_4[0][0]']       \n",
            "                                                                                                  \n",
            " batch_normalization_27 (Ba  (None, 144, 144, 512)        2048      ['conv2d_28[0][0]']           \n",
            " tchNormalization)                                                                                \n",
            "                                                                                                  \n",
            " activation_31 (Activation)  (None, 144, 144, 512)        0         ['batch_normalization_27[0][0]\n",
            "                                                                    ']                            \n",
            "                                                                                                  \n",
            " conv2d_29 (Conv2D)          (None, 144, 144, 512)        2359808   ['activation_31[0][0]']       \n",
            "                                                                                                  \n",
            " batch_normalization_28 (Ba  (None, 144, 144, 512)        2048      ['conv2d_29[0][0]']           \n",
            " tchNormalization)                                                                                \n",
            "                                                                                                  \n",
            " activation_32 (Activation)  (None, 144, 144, 512)        0         ['batch_normalization_28[0][0]\n",
            "                                                                    ']                            \n",
            "                                                                                                  \n",
            " conv2d_30 (Conv2D)          (None, 144, 144, 512)        2359808   ['activation_32[0][0]']       \n",
            "                                                                                                  \n",
            " batch_normalization_29 (Ba  (None, 144, 144, 512)        2048      ['conv2d_30[0][0]']           \n",
            " tchNormalization)                                                                                \n",
            "                                                                                                  \n",
            " activation_33 (Activation)  (None, 144, 144, 512)        0         ['batch_normalization_29[0][0]\n",
            "                                                                    ']                            \n",
            "                                                                                                  \n",
            " resizing_4 (Resizing)       (None, 288, 288, 512)        0         ['activation_33[0][0]']       \n",
            "                                                                                                  \n",
            " concatenate_5 (Concatenate  (None, 288, 288, 576)        0         ['resnet34_block1[0][0]',     \n",
            " )                                                                   'resizing_4[0][0]']          \n",
            "                                                                                                  \n",
            " conv2d_31 (Conv2D)          (None, 288, 288, 512)        2654720   ['concatenate_5[0][0]']       \n",
            "                                                                                                  \n",
            " batch_normalization_30 (Ba  (None, 288, 288, 512)        2048      ['conv2d_31[0][0]']           \n",
            " tchNormalization)                                                                                \n",
            "                                                                                                  \n",
            " activation_34 (Activation)  (None, 288, 288, 512)        0         ['batch_normalization_30[0][0]\n",
            "                                                                    ']                            \n",
            "                                                                                                  \n",
            " conv2d_32 (Conv2D)          (None, 288, 288, 512)        2359808   ['activation_34[0][0]']       \n",
            "                                                                                                  \n",
            " batch_normalization_31 (Ba  (None, 288, 288, 512)        2048      ['conv2d_32[0][0]']           \n",
            " tchNormalization)                                                                                \n",
            "                                                                                                  \n",
            " activation_35 (Activation)  (None, 288, 288, 512)        0         ['batch_normalization_31[0][0]\n",
            "                                                                    ']                            \n",
            "                                                                                                  \n",
            " conv2d_33 (Conv2D)          (None, 288, 288, 512)        2359808   ['activation_35[0][0]']       \n",
            "                                                                                                  \n",
            " batch_normalization_32 (Ba  (None, 288, 288, 512)        2048      ['conv2d_33[0][0]']           \n",
            " tchNormalization)                                                                                \n",
            "                                                                                                  \n",
            " activation_36 (Activation)  (None, 288, 288, 512)        0         ['batch_normalization_32[0][0]\n",
            "                                                                    ']                            \n",
            "                                                                                                  \n",
            " conv2d_34 (Conv2D)          (None, 288, 288, 1)          4609      ['activation_36[0][0]']       \n",
            "                                                                                                  \n",
            " resizing_5 (Resizing)       (None, 288, 288, 1)          0         ['conv2d_34[0][0]']           \n",
            "                                                                                                  \n",
            " conv2d_41 (Conv2D)          (None, 288, 288, 64)         640       ['resizing_5[0][0]']          \n",
            "                                                                                                  \n",
            " conv2d_42 (Conv2D)          (None, 288, 288, 64)         36928     ['conv2d_41[0][0]']           \n",
            "                                                                                                  \n",
            " batch_normalization_33 (Ba  (None, 288, 288, 64)         256       ['conv2d_42[0][0]']           \n",
            " tchNormalization)                                                                                \n",
            "                                                                                                  \n",
            " activation_37 (Activation)  (None, 288, 288, 64)         0         ['batch_normalization_33[0][0]\n",
            "                                                                    ']                            \n",
            "                                                                                                  \n",
            " max_pooling2d_2 (MaxPoolin  (None, 144, 144, 64)         0         ['activation_37[0][0]']       \n",
            " g2D)                                                                                             \n",
            "                                                                                                  \n",
            " conv2d_43 (Conv2D)          (None, 144, 144, 64)         36928     ['max_pooling2d_2[0][0]']     \n",
            "                                                                                                  \n",
            " batch_normalization_34 (Ba  (None, 144, 144, 64)         256       ['conv2d_43[0][0]']           \n",
            " tchNormalization)                                                                                \n",
            "                                                                                                  \n",
            " activation_38 (Activation)  (None, 144, 144, 64)         0         ['batch_normalization_34[0][0]\n",
            "                                                                    ']                            \n",
            "                                                                                                  \n",
            " max_pooling2d_3 (MaxPoolin  (None, 72, 72, 64)           0         ['activation_38[0][0]']       \n",
            " g2D)                                                                                             \n",
            "                                                                                                  \n",
            " conv2d_44 (Conv2D)          (None, 72, 72, 64)           36928     ['max_pooling2d_3[0][0]']     \n",
            "                                                                                                  \n",
            " batch_normalization_35 (Ba  (None, 72, 72, 64)           256       ['conv2d_44[0][0]']           \n",
            " tchNormalization)                                                                                \n",
            "                                                                                                  \n",
            " activation_39 (Activation)  (None, 72, 72, 64)           0         ['batch_normalization_35[0][0]\n",
            "                                                                    ']                            \n",
            "                                                                                                  \n",
            " max_pooling2d_4 (MaxPoolin  (None, 36, 36, 64)           0         ['activation_39[0][0]']       \n",
            " g2D)                                                                                             \n",
            "                                                                                                  \n",
            " conv2d_45 (Conv2D)          (None, 36, 36, 64)           36928     ['max_pooling2d_4[0][0]']     \n",
            "                                                                                                  \n",
            " batch_normalization_36 (Ba  (None, 36, 36, 64)           256       ['conv2d_45[0][0]']           \n",
            " tchNormalization)                                                                                \n",
            "                                                                                                  \n",
            " activation_40 (Activation)  (None, 36, 36, 64)           0         ['batch_normalization_36[0][0]\n",
            "                                                                    ']                            \n",
            "                                                                                                  \n",
            " max_pooling2d_5 (MaxPoolin  (None, 18, 18, 64)           0         ['activation_40[0][0]']       \n",
            " g2D)                                                                                             \n",
            "                                                                                                  \n",
            " conv2d_46 (Conv2D)          (None, 18, 18, 64)           36928     ['max_pooling2d_5[0][0]']     \n",
            "                                                                                                  \n",
            " batch_normalization_37 (Ba  (None, 18, 18, 64)           256       ['conv2d_46[0][0]']           \n",
            " tchNormalization)                                                                                \n",
            "                                                                                                  \n",
            " activation_41 (Activation)  (None, 18, 18, 64)           0         ['batch_normalization_37[0][0]\n",
            "                                                                    ']                            \n",
            "                                                                                                  \n",
            " resizing_12 (Resizing)      (None, 36, 36, 64)           0         ['activation_41[0][0]']       \n",
            "                                                                                                  \n",
            " concatenate_6 (Concatenate  (None, 36, 36, 128)          0         ['activation_40[0][0]',       \n",
            " )                                                                   'resizing_12[0][0]']         \n",
            "                                                                                                  \n",
            " conv2d_47 (Conv2D)          (None, 36, 36, 64)           73792     ['concatenate_6[0][0]']       \n",
            "                                                                                                  \n",
            " batch_normalization_38 (Ba  (None, 36, 36, 64)           256       ['conv2d_47[0][0]']           \n",
            " tchNormalization)                                                                                \n",
            "                                                                                                  \n",
            " activation_42 (Activation)  (None, 36, 36, 64)           0         ['batch_normalization_38[0][0]\n",
            "                                                                    ']                            \n",
            "                                                                                                  \n",
            " resizing_13 (Resizing)      (None, 72, 72, 64)           0         ['activation_42[0][0]']       \n",
            "                                                                                                  \n",
            " concatenate_7 (Concatenate  (None, 72, 72, 128)          0         ['activation_39[0][0]',       \n",
            " )                                                                   'resizing_13[0][0]']         \n",
            "                                                                                                  \n",
            " conv2d_48 (Conv2D)          (None, 72, 72, 64)           73792     ['concatenate_7[0][0]']       \n",
            "                                                                                                  \n",
            " batch_normalization_39 (Ba  (None, 72, 72, 64)           256       ['conv2d_48[0][0]']           \n",
            " tchNormalization)                                                                                \n",
            "                                                                                                  \n",
            " activation_43 (Activation)  (None, 72, 72, 64)           0         ['batch_normalization_39[0][0]\n",
            "                                                                    ']                            \n",
            "                                                                                                  \n",
            " resizing_14 (Resizing)      (None, 144, 144, 64)         0         ['activation_43[0][0]']       \n",
            "                                                                                                  \n",
            " concatenate_8 (Concatenate  (None, 144, 144, 128)        0         ['activation_38[0][0]',       \n",
            " )                                                                   'resizing_14[0][0]']         \n",
            "                                                                                                  \n",
            " conv2d_49 (Conv2D)          (None, 144, 144, 64)         73792     ['concatenate_8[0][0]']       \n",
            "                                                                                                  \n",
            " batch_normalization_40 (Ba  (None, 144, 144, 64)         256       ['conv2d_49[0][0]']           \n",
            " tchNormalization)                                                                                \n",
            "                                                                                                  \n",
            " activation_44 (Activation)  (None, 144, 144, 64)         0         ['batch_normalization_40[0][0]\n",
            "                                                                    ']                            \n",
            "                                                                                                  \n",
            " resizing_15 (Resizing)      (None, 288, 288, 64)         0         ['activation_44[0][0]']       \n",
            "                                                                                                  \n",
            " concatenate_9 (Concatenate  (None, 288, 288, 128)        0         ['activation_37[0][0]',       \n",
            " )                                                                   'resizing_15[0][0]']         \n",
            "                                                                                                  \n",
            " conv2d_50 (Conv2D)          (None, 288, 288, 64)         73792     ['concatenate_9[0][0]']       \n",
            "                                                                                                  \n",
            " batch_normalization_41 (Ba  (None, 288, 288, 64)         256       ['conv2d_50[0][0]']           \n",
            " tchNormalization)                                                                                \n",
            "                                                                                                  \n",
            " activation_45 (Activation)  (None, 288, 288, 64)         0         ['batch_normalization_41[0][0]\n",
            "                                                                    ']                            \n",
            "                                                                                                  \n",
            " conv2d_51 (Conv2D)          (None, 288, 288, 1)          577       ['activation_45[0][0]']       \n",
            "                                                                                                  \n",
            " conv2d_35 (Conv2D)          (None, 144, 144, 1)          4609      ['activation_33[0][0]']       \n",
            "                                                                                                  \n",
            " conv2d_36 (Conv2D)          (None, 72, 72, 1)            4609      ['activation_30[0][0]']       \n",
            "                                                                                                  \n",
            " conv2d_37 (Conv2D)          (None, 36, 36, 1)            4609      ['activation_27[0][0]']       \n",
            "                                                                                                  \n",
            " conv2d_38 (Conv2D)          (None, 18, 18, 1)            4609      ['activation_24[0][0]']       \n",
            "                                                                                                  \n",
            " conv2d_39 (Conv2D)          (None, 9, 9, 1)              4609      ['activation_21[0][0]']       \n",
            "                                                                                                  \n",
            " conv2d_40 (Conv2D)          (None, 9, 9, 1)              4609      ['activation_18[0][0]']       \n",
            "                                                                                                  \n",
            " add_6 (Add)                 (None, 288, 288, 1)          0         ['resizing_5[0][0]',          \n",
            "                                                                     'conv2d_51[0][0]']           \n",
            "                                                                                                  \n",
            " resizing_6 (Resizing)       (None, 288, 288, 1)          0         ['conv2d_35[0][0]']           \n",
            "                                                                                                  \n",
            " resizing_7 (Resizing)       (None, 288, 288, 1)          0         ['conv2d_36[0][0]']           \n",
            "                                                                                                  \n",
            " resizing_8 (Resizing)       (None, 288, 288, 1)          0         ['conv2d_37[0][0]']           \n",
            "                                                                                                  \n",
            " resizing_9 (Resizing)       (None, 288, 288, 1)          0         ['conv2d_38[0][0]']           \n",
            "                                                                                                  \n",
            " resizing_10 (Resizing)      (None, 288, 288, 1)          0         ['conv2d_39[0][0]']           \n",
            "                                                                                                  \n",
            " resizing_11 (Resizing)      (None, 288, 288, 1)          0         ['conv2d_40[0][0]']           \n",
            "                                                                                                  \n",
            " activation_46 (Activation)  (None, 288, 288, 1)          0         ['add_6[0][0]']               \n",
            "                                                                                                  \n",
            " activation_47 (Activation)  (None, 288, 288, 1)          0         ['resizing_5[0][0]']          \n",
            "                                                                                                  \n",
            " activation_48 (Activation)  (None, 288, 288, 1)          0         ['resizing_6[0][0]']          \n",
            "                                                                                                  \n",
            " activation_49 (Activation)  (None, 288, 288, 1)          0         ['resizing_7[0][0]']          \n",
            "                                                                                                  \n",
            " activation_50 (Activation)  (None, 288, 288, 1)          0         ['resizing_8[0][0]']          \n",
            "                                                                                                  \n",
            " activation_51 (Activation)  (None, 288, 288, 1)          0         ['resizing_9[0][0]']          \n",
            "                                                                                                  \n",
            " activation_52 (Activation)  (None, 288, 288, 1)          0         ['resizing_10[0][0]']         \n",
            "                                                                                                  \n",
            " activation_53 (Activation)  (None, 288, 288, 1)          0         ['resizing_11[0][0]']         \n",
            "                                                                                                  \n",
            "==================================================================================================\n",
            "Total params: 108886792 (415.37 MB)\n",
            "Trainable params: 108834952 (415.17 MB)\n",
            "Non-trainable params: 51840 (202.50 KB)\n",
            "__________________________________________________________________________________________________\n"
          ]
        }
      ]
    },
    {
      "cell_type": "code",
      "source": [
        "# Callbacks\n",
        "checkpoint_callback = keras.callbacks.ModelCheckpoint(\n",
        "    filepath='path_to_checkpoint',\n",
        "    save_weights_only=True,\n",
        "    save_freq='epoch',\n",
        "    verbose=1\n",
        ")"
      ],
      "metadata": {
        "id": "5ArhVrNgN682"
      },
      "id": "5ArhVrNgN682",
      "execution_count": null,
      "outputs": []
    },
    {
      "cell_type": "markdown",
      "source": [],
      "metadata": {
        "id": "PqltkpsgOBjR"
      },
      "id": "PqltkpsgOBjR"
    },
    {
      "cell_type": "markdown",
      "id": "05f1b8f6-b40e-4e7c-a0ad-930948e59813",
      "metadata": {
        "id": "05f1b8f6-b40e-4e7c-a0ad-930948e59813"
      },
      "source": [
        "### **Train the Model**"
      ]
    },
    {
      "cell_type": "code",
      "source": [
        "basnet_model.fit(train_dataset, validation_data=val_dataset, epochs=1)"
      ],
      "metadata": {
        "id": "ST4VDcFmAaSs",
        "colab": {
          "base_uri": "https://localhost:8080/"
        },
        "outputId": "f248f2bf-4ff5-4c81-cd96-7e0caee60b31"
      },
      "id": "ST4VDcFmAaSs",
      "execution_count": null,
      "outputs": [
        {
          "output_type": "stream",
          "name": "stdout",
          "text": [
            "32/32 [==============================] - 245s 8s/step - loss: 16.2081 - activation_46_loss: 2.0324 - activation_47_loss: 2.0706 - activation_48_loss: 2.0790 - activation_49_loss: 2.0642 - activation_50_loss: 2.0722 - activation_51_loss: 1.9937 - activation_52_loss: 1.9003 - activation_53_loss: 1.9957 - activation_46_mae: 0.2437 - activation_47_mae: 0.2692 - activation_48_mae: 0.2702 - activation_49_mae: 0.2654 - activation_50_mae: 0.2836 - activation_51_mae: 0.2709 - activation_52_mae: 0.2282 - activation_53_mae: 0.2387 - val_loss: 24.9354 - val_activation_46_loss: 5.4915 - val_activation_47_loss: 5.7575 - val_activation_48_loss: 2.3101 - val_activation_49_loss: 2.2946 - val_activation_50_loss: 2.3012 - val_activation_51_loss: 2.3153 - val_activation_52_loss: 2.2253 - val_activation_53_loss: 2.2400 - val_activation_46_mae: 0.7414 - val_activation_47_mae: 0.7461 - val_activation_48_mae: 0.3721 - val_activation_49_mae: 0.2746 - val_activation_50_mae: 0.3172 - val_activation_51_mae: 0.2030 - val_activation_52_mae: 0.2006 - val_activation_53_mae: 0.2689\n"
          ]
        },
        {
          "output_type": "execute_result",
          "data": {
            "text/plain": [
              "<keras.src.callbacks.History at 0x79b220436020>"
            ]
          },
          "metadata": {},
          "execution_count": 20
        }
      ]
    },
    {
      "cell_type": "markdown",
      "id": "01b7418d-379f-4b11-8c1e-09219bd105a9",
      "metadata": {
        "id": "01b7418d-379f-4b11-8c1e-09219bd105a9"
      },
      "source": [
        "### **Visualize Predictions**"
      ]
    },
    {
      "cell_type": "markdown",
      "id": "673da562-fe45-4226-b1b6-bf934259555e",
      "metadata": {
        "id": "673da562-fe45-4226-b1b6-bf934259555e"
      },
      "source": [
        "In paper BASNet was trained on DUTS-TR dataset, which has 10553 images. Model was trained for 400k iterations with a batch size of eight and without a validation dataset. After training model was evaluated on DUTS-TE dataset and achieved a mean absolute error of 0.042."
      ]
    },
    {
      "cell_type": "code",
      "source": [
        "!!gdown 1OWKouuAQ7XpXZbWA3mmxDPrFGW71Axrg"
      ],
      "metadata": {
        "colab": {
          "base_uri": "https://localhost:8080/"
        },
        "id": "ct1GQ7hoQX5X",
        "outputId": "0c6f2003-85fc-498e-e269-a1baeb8505b3"
      },
      "id": "ct1GQ7hoQX5X",
      "execution_count": null,
      "outputs": [
        {
          "output_type": "execute_result",
          "data": {
            "text/plain": [
              "['Downloading...',\n",
              " 'From (original): https://drive.google.com/uc?id=1OWKouuAQ7XpXZbWA3mmxDPrFGW71Axrg',\n",
              " 'From (redirected): https://drive.google.com/uc?id=1OWKouuAQ7XpXZbWA3mmxDPrFGW71Axrg&confirm=t&uuid=e5b187e6-0a27-40f0-ac09-6157ac66322f',\n",
              " 'To: /content/basnet_weights.h5',\n",
              " '',\n",
              " '  0% 0.00/436M [00:00<?, ?B/s]',\n",
              " '  1% 4.72M/436M [00:00<00:32, 13.2MB/s]',\n",
              " '  5% 22.0M/436M [00:00<00:07, 58.5MB/s]',\n",
              " '  8% 33.0M/436M [00:00<00:09, 40.6MB/s]',\n",
              " ' 12% 50.9M/436M [00:01<00:09, 41.9MB/s]',\n",
              " ' 17% 75.5M/436M [00:01<00:05, 71.1MB/s]',\n",
              " ' 20% 88.1M/436M [00:01<00:05, 58.2MB/s]',\n",
              " ' 22% 98.0M/436M [00:01<00:05, 58.8MB/s]',\n",
              " ' 25% 107M/436M [00:02<00:05, 55.5MB/s] ',\n",
              " ' 27% 118M/436M [00:02<00:05, 53.1MB/s]',\n",
              " ' 29% 126M/436M [00:02<00:05, 52.5MB/s]',\n",
              " ' 33% 143M/436M [00:02<00:04, 60.1MB/s]',\n",
              " ' 35% 152M/436M [00:02<00:04, 60.8MB/s]',\n",
              " ' 38% 166M/436M [00:02<00:03, 75.8MB/s]',\n",
              " ' 40% 175M/436M [00:03<00:03, 66.8MB/s]',\n",
              " ' 42% 185M/436M [00:03<00:03, 67.8MB/s]',\n",
              " ' 44% 193M/436M [00:03<00:04, 56.8MB/s]',\n",
              " ' 46% 202M/436M [00:03<00:03, 61.5MB/s]',\n",
              " ' 50% 219M/436M [00:03<00:03, 62.7MB/s]',\n",
              " ' 53% 230M/436M [00:03<00:02, 72.3MB/s]',\n",
              " ' 55% 241M/436M [00:04<00:02, 80.1MB/s]',\n",
              " ' 57% 251M/436M [00:04<00:02, 64.8MB/s]',\n",
              " ' 60% 261M/436M [00:04<00:02, 71.7MB/s]',\n",
              " ' 62% 269M/436M [00:04<00:02, 57.1MB/s]',\n",
              " ' 66% 286M/436M [00:04<00:02, 75.1MB/s]',\n",
              " ' 68% 295M/436M [00:04<00:02, 57.5MB/s]',\n",
              " ' 72% 312M/436M [00:05<00:01, 78.3MB/s]',\n",
              " ' 75% 328M/436M [00:05<00:01, 69.0MB/s]',\n",
              " ' 79% 344M/436M [00:05<00:01, 84.4MB/s]',\n",
              " ' 83% 361M/436M [00:05<00:00, 76.5MB/s]',\n",
              " ' 87% 378M/436M [00:05<00:00, 86.8MB/s]',\n",
              " ' 91% 395M/436M [00:06<00:00, 77.9MB/s]',\n",
              " ' 94% 412M/436M [00:06<00:00, 91.2MB/s]',\n",
              " ' 97% 423M/436M [00:06<00:00, 84.5MB/s]',\n",
              " ' 99% 433M/436M [00:06<00:00, 84.5MB/s]',\n",
              " '100% 436M/436M [00:06<00:00, 66.8MB/s]']"
            ]
          },
          "metadata": {},
          "execution_count": 23
        }
      ]
    },
    {
      "cell_type": "code",
      "source": [
        "def normalize_output(prediction):\n",
        "    max_value = np.max(prediction)\n",
        "    min_value = np.min(prediction)\n",
        "    return (prediction - min_value) / (max_value - min_value)\n",
        "\n",
        "\n",
        "# Load weights.\n",
        "basnet_model.load_weights(\"./basnet_weights.h5\")"
      ],
      "metadata": {
        "id": "_tyRR5U_Ab1F"
      },
      "id": "_tyRR5U_Ab1F",
      "execution_count": null,
      "outputs": []
    },
    {
      "cell_type": "markdown",
      "id": "d18759ad-2ced-4c91-bb9b-04a33b1f7052",
      "metadata": {
        "id": "d18759ad-2ced-4c91-bb9b-04a33b1f7052"
      },
      "source": [
        "### **Make Predictions**"
      ]
    },
    {
      "cell_type": "code",
      "source": [
        "for image, mask in val_dataset.take(1):\n",
        "    pred_mask = basnet_model.predict(image)\n",
        "    display([image[0], mask[0], normalize_output(pred_mask[0][0])])"
      ],
      "metadata": {
        "id": "-trqgOReAf_v",
        "colab": {
          "base_uri": "https://localhost:8080/",
          "height": 222
        },
        "outputId": "3883c70b-9d30-4afe-d73d-991a5d254e07"
      },
      "id": "-trqgOReAf_v",
      "execution_count": null,
      "outputs": [
        {
          "output_type": "stream",
          "name": "stdout",
          "text": [
            "1/1 [==============================] - 1s 1s/step\n"
          ]
        },
        {
          "output_type": "display_data",
          "data": {
            "text/plain": [
              "<Figure size 640x480 with 3 Axes>"
            ],
            "image/png": "[encoded data removed]"
          },
          "metadata": {}
        }
      ]
    },
    {
      "cell_type": "code",
      "execution_count": null,
      "id": "738ffce8-a541-4032-a040-5792d03c52a8",
      "metadata": {
        "id": "738ffce8-a541-4032-a040-5792d03c52a8"
      },
      "outputs": [],
      "source": []
    }
  ],
  "metadata": {
    "kernelspec": {
      "display_name": "Python (myenv)",
      "name": "myenv"
    },
    "colab": {
      "provenance": [],
      "gpuType": "T4"
    },
    "accelerator": "GPU"
  },
  "nbformat": 4,
  "nbformat_minor": 5
}